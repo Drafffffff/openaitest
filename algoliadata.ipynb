{
 "cells": [
  {
   "cell_type": "code",
   "execution_count": null,
   "metadata": {},
   "outputs": [],
   "source": []
  },
  {
   "cell_type": "code",
   "execution_count": 2,
   "metadata": {},
   "outputs": [],
   "source": [
    "import pandas as pd\n",
    "\n",
    "df = pd.read_csv(\"./data/2020diatotal.csv\")\n",
    "df = df[df[\"参加初评\"]==\"是\"]"
   ]
  },
  {
   "cell_type": "code",
   "execution_count": 3,
   "metadata": {},
   "outputs": [],
   "source": [
    "df.reset_index(drop=True, inplace=True)"
   ]
  },
  {
   "cell_type": "code",
   "execution_count": 4,
   "metadata": {},
   "outputs": [],
   "source": [
    "# 总结获奖情况，从佳作奖/优秀奖,铜奖/三等奖,银奖/二等奖,金奖/一等奖,几个字段中提取出获奖情况\n",
    "def prize_sum(row):\n",
    "    if row[\"佳作奖/优秀奖\"] == \"是\":\n",
    "        return \"2\"\n",
    "    elif row[\"铜奖/三等奖\"] == \"是\":\n",
    "        return \"3\"\n",
    "    elif row[\"银奖/二等奖\"] == \"是\":\n",
    "        return \"4\"\n",
    "    elif row[\"金奖/一等奖\"] == \"是\":\n",
    "        return \"5\"\n",
    "    else:\n",
    "        return \"1\"\n",
    "\n",
    "df.loc[:, \"获奖情况\"] = df.apply(prize_sum, axis=1)\n"
   ]
  },
  {
   "cell_type": "code",
   "execution_count": 5,
   "metadata": {},
   "outputs": [],
   "source": [
    "id = df['作品ID'].to_list()\n",
    "title = df['作品名称(中文)'].to_list()\n",
    "title_en = df['作品名称(英文)'].to_list()\n",
    "year = [\"2022\" for i in range(df.shape[0])]\n",
    "category = df['小类(中文) '].to_list()\n",
    "institution = df['报送单位(中文)'].to_list()\n",
    "author = df['报送人姓名'].to_list()\n",
    "country = df['国籍(中文) '].to_list()\n",
    "description = df['作品定位描述'].to_list()\n",
    "description_en = df['作品定位描述（英文）'].to_list()\n",
    "innovation = df['设计创新点'].to_list()\n",
    "innovation_en = df['设计创新点（英文）'].to_list()\n",
    "painpoint = df['痛点分析'].to_list()\n",
    "painpoint_en = df['痛点分析（英文）'].to_list()\n",
    "potential = df['潜力与拓展性'].to_list()\n",
    "potential_en = df['潜力与拓展性（英文）'].to_list()\n",
    "prize = df['获奖情况'].to_list()"
   ]
  },
  {
   "cell_type": "code",
   "execution_count": 6,
   "metadata": {},
   "outputs": [],
   "source": [
    "#把 id title title_en year category institution author country description description_en innovation innovation_en painpoint painpoint_en potential potential_en prize 作为字典的键，把对应的值作为字典的值，组成一个字典数组\n",
    "data_list = [{\"objectID\": id[i], \"title\": title[i], \"title_en\": title_en[i], \"year\": year[i], \"category\": category[i], \"institution\": institution[i], \"author\": author[i], \"country\": country[i], \"description\": description[i], \"description_en\": description_en[i], \"innovation\": innovation[i], \"innovation_en\": innovation_en[i], \"painpoint\": painpoint[i], \"painpoint_en\": painpoint_en[i], \"potential\": potential[i], \"potential_en\": potential_en[i], \"prize\": prize[i]} for i in range(len(id))]"
   ]
  },
  {
   "cell_type": "code",
   "execution_count": 7,
   "metadata": {},
   "outputs": [],
   "source": [
    "pd.DataFrame(data_list).to_csv(\"./data/2020dia.csv\", index=False)"
   ]
  },
  {
   "cell_type": "code",
   "execution_count": 8,
   "metadata": {},
   "outputs": [],
   "source": []
  },
  {
   "cell_type": "code",
   "execution_count": null,
   "metadata": {},
   "outputs": [],
   "source": [
    "results = index.search('YourQuery')"
   ]
  }
 ],
 "metadata": {
  "kernelspec": {
   "display_name": ".venv",
   "language": "python",
   "name": "python3"
  },
  "language_info": {
   "codemirror_mode": {
    "name": "ipython",
    "version": 3
   },
   "file_extension": ".py",
   "mimetype": "text/x-python",
   "name": "python",
   "nbconvert_exporter": "python",
   "pygments_lexer": "ipython3",
   "version": "3.11.2"
  },
  "orig_nbformat": 4
 },
 "nbformat": 4,
 "nbformat_minor": 2
}
